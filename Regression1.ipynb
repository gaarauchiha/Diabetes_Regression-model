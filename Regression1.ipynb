{
 "cells": [
  {
   "cell_type": "code",
   "execution_count": 12,
   "id": "fcb6389e",
   "metadata": {},
   "outputs": [
    {
     "name": "stdout",
     "output_type": "stream",
     "text": [
      "Training MSE: 1710.6670090547098\n"
     ]
    }
   ],
   "source": [
    "import pandas as pd\n",
    "from sklearn.linear_model import LinearRegression\n",
    "from sklearn.metrics import mean_squared_error\n",
    "\n",
    "# Load the training data\n",
    "train_data = pd.read_csv('train.csv')\n",
    "\n",
    "# Separate the features and target variable\n",
    "X_train = train_data.drop(['id', 'y'], axis=1)\n",
    "y_train = train_data['y']\n",
    "\n",
    "# Train the linear regression model\n",
    "model = LinearRegression()\n",
    "model.fit(X_train, y_train)\n",
    "\n",
    "# Load the test data\n",
    "test_data = pd.read_csv('x_test.csv')\n",
    "\n",
    "# Make predictions on the test data\n",
    "X_test = test_data.drop('id', axis=1)\n",
    "predictions = model.predict(X_test)\n",
    "\n",
    "# Create a DataFrame with the predictions\n",
    "submission = pd.DataFrame({'id': test_data['id'], 'y': predictions})\n",
    "\n",
    "# Save the predictions to a CSV file\n",
    "submission.to_csv('y-test.csv', index=False)\n",
    "\n",
    "# Calculate and print the Mean Squared Error (MSE) on the training data\n",
    "train_predictions = model.predict(X_train)\n",
    "train_mse = mean_squared_error(y_train, train_predictions)\n",
    "print(\"Training MSE:\", train_mse)\n",
    "\n"
   ]
  },
  {
   "cell_type": "code",
   "execution_count": null,
   "id": "7cffb8cc",
   "metadata": {},
   "outputs": [],
   "source": []
  }
 ],
 "metadata": {
  "kernelspec": {
   "display_name": "Python 3 (ipykernel)",
   "language": "python",
   "name": "python3"
  },
  "language_info": {
   "codemirror_mode": {
    "name": "ipython",
    "version": 3
   },
   "file_extension": ".py",
   "mimetype": "text/x-python",
   "name": "python",
   "nbconvert_exporter": "python",
   "pygments_lexer": "ipython3",
   "version": "3.11.3"
  }
 },
 "nbformat": 4,
 "nbformat_minor": 5
}
